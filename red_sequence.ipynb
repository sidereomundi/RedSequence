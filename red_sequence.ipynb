{
 "cells": [
  {
   "cell_type": "markdown",
   "id": "854d1fe7",
   "metadata": {
    "colab_type": "text",
    "id": "view-in-github"
   },
   "source": [
    "<a href=\"https://colab.research.google.com/github/sidereomundi/RedSequence/blob/main/red_sequence.ipynb\" target=\"_parent\"><img src=\"https://colab.research.google.com/assets/colab-badge.svg\" alt=\"Open In Colab\"/></a>"
   ]
  },
  {
   "cell_type": "markdown",
   "id": "bbe34b9c",
   "metadata": {},
   "source": [
    "## Overview\n",
    "\n",
    "This notebook demonstrates how to identify and model the galaxy red sequence using COSMOS, DES and SPT data. Explanatory text is added throughout to clarify each step."
   ]
  },
  {
   "cell_type": "markdown",
   "id": "be7e6234",
   "metadata": {},
   "source": [
    "### Installing dependencies\n",
    "\n",
    "The first code cell installs the Python packages required for the analysis, including `emcee` for MCMC sampling and `pygtc` for plotting utilities."
   ]
  },
  {
   "cell_type": "code",
   "execution_count": null,
   "id": "a9c7edc6-e29e-42a3-b5cf-1f41dfecbe42",
   "metadata": {
    "id": "a9c7edc6-e29e-42a3-b5cf-1f41dfecbe42"
   },
   "outputs": [],
   "source": [
    "%pip install emcee pygtc\n",
    "from astropy.table import Table\n",
    "import numpy as np\n",
    "from matplotlib import pyplot as plt\n",
    "import emcee\n",
    "import pygtc\n",
    "from tqdm import tqdm\n",
    "from scipy.interpolate import interp1d\n",
    "from google.colab import drive\n",
    "from astropy.stats import sigma_clip\n",
    "drive.mount('/content/drive')"
   ]
  },
  {
   "cell_type": "markdown",
   "id": "cbdc202f",
   "metadata": {},
   "source": [
    "### Loading COSMOS data\n",
    "\n",
    "The COSMOS catalog is read from a FITS file stored on Google Drive. We inspect a few rows to ensure the data are loaded correctly."
   ]
  },
  {
   "cell_type": "code",
   "execution_count": null,
   "id": "ed305fa5-d48e-4f58-b1f8-06bb1e44b26f",
   "metadata": {
    "id": "ed305fa5-d48e-4f58-b1f8-06bb1e44b26f"
   },
   "outputs": [],
   "source": [
    "cosmos = Table.read(\"/content/drive/My Drive/ObservationalCosmology/Photo-z/cosmosM.fit\")\n",
    "cosmos[0:3]"
   ]
  },
  {
   "cell_type": "markdown",
   "id": "86cc5c70",
   "metadata": {},
   "source": [
    "### Computing rest-frame magnitudes and UVJ selection\n",
    "\n",
    "COSMOS photometry is converted to U, V and J magnitudes. We apply a colour selection using the helper function `UVJsel` to flag passive galaxies."
   ]
  },
  {
   "cell_type": "code",
   "execution_count": null,
   "id": "e19a7e16-05e3-4a98-9b21-5156f3af4188",
   "metadata": {
    "id": "e19a7e16-05e3-4a98-9b21-5156f3af4188"
   },
   "outputs": [],
   "source": [
    "U = -2.5*np.log10(cosmos[\"EZrestU\"]) + 23.9\n",
    "V = -2.5*np.log10(cosmos[\"EZrestV\"]) + 23.9\n",
    "J = -2.5*np.log10(cosmos[\"EZrestJ\"]) + 23.9\n",
    "cosmos[\"U\"] = U\n",
    "cosmos[\"V\"] = V\n",
    "cosmos[\"J\"] = J\n",
    "z = cosmos[\"EZzphot\"]\n",
    "cut = (cosmos[\"EZzphot\"]<1.5) & (cosmos[\"SolModel\"] != \"PointSource\") & (cosmos[\"FModel\"] == 0) & (cosmos[\"loglpMassmed\"] > 8.5)\n",
    "#cut = np.isfinite(U)\n",
    "\n",
    "def UVJsel(cosmos):\n",
    "    passive = np.zeros(len(cosmos),dtype=bool)\n",
    "    U = -2.5*np.log10(cosmos[\"EZrestU\"]) + 23.9\n",
    "    V = -2.5*np.log10(cosmos[\"EZrestV\"]) + 23.9\n",
    "    J = -2.5*np.log10(cosmos[\"EZrestJ\"]) + 23.9\n",
    "    z = cosmos[\"EZzphot\"]\n",
    "    passive[((U -V) > (0.88*(V - J) + 0.69)) & (0.0 < z) & (z < 0.5) & (U-V>1.3) & (V-J<1.6)] = True\n",
    "    passive[((U -V) > 0.88*(V - J) + 0.59) & (0.5 <= z) & (z < 1.0) & (U-V>1.3) & (V-J<1.6)] = True\n",
    "    passive[((U -V) > 0.88*(V - J) + 0.49) & (1.0 <= z) & (z < 2.0) & (U-V>1.3) & (V-J<1.6)] = True\n",
    "    cosmos[\"passive\"] = passive\n",
    "#    return(passive)\n",
    "UVJsel(cosmos)"
   ]
  },
  {
   "cell_type": "markdown",
   "id": "d8a1fe97",
   "metadata": {},
   "source": [
    "### Visualising the UVJ diagram\n",
    "\n",
    "A 2D histogram illustrates how galaxies populate the UVJ colour space. Selection boundaries for different redshift ranges are overplotted."
   ]
  },
  {
   "cell_type": "code",
   "execution_count": null,
   "id": "3349bec7-a9ee-49bd-a7a9-707fb6b6f200",
   "metadata": {
    "id": "3349bec7-a9ee-49bd-a7a9-707fb6b6f200"
   },
   "outputs": [],
   "source": [
    "def plotz05():\n",
    "    x = np.linspace(-5,5,1000)\n",
    "    y = np.zeros_like(x)\n",
    "    y = (0.88*x + 0.69)\n",
    "    y[y<1.3] = 1.3\n",
    "    x[x>1.6] = 1.6\n",
    "    return x,y\n",
    "\n",
    "def plotz10():\n",
    "    x = np.linspace(-5,5,1000)\n",
    "    y = np.zeros_like(x)\n",
    "    y = (0.88*x + 0.59)\n",
    "    y[y<1.3] = 1.3\n",
    "    x[x>1.6] = 1.6\n",
    "    return x,y\n",
    "\n",
    "def plotz20():\n",
    "    x = np.linspace(-5,5,1000)\n",
    "    y = np.zeros_like(x)\n",
    "    y = (0.88*x + 0.49)\n",
    "    y[y<1.3] = 1.3\n",
    "    x[x>1.6] = 1.6\n",
    "    return x,y"
   ]
  },
  {
   "cell_type": "code",
   "execution_count": null,
   "id": "944a1520-08ad-4ffa-a46d-b6b129f27774",
   "metadata": {
    "id": "944a1520-08ad-4ffa-a46d-b6b129f27774"
   },
   "outputs": [],
   "source": [
    "UV = U[cut]-V[cut]\n",
    "VJ = V[cut]-J[cut]\n",
    "#plt.plot(VJ,UV,'.',alpha=0.1)\n",
    "#plt.plot(cosmos[\"V\"][cosmos[\"passive\"]]-cosmos[\"J\"][cosmos[\"passive\"]], cosmos[\"U\"][cosmos[\"passive\"]]-cosmos[\"V\"][cosmos[\"passive\"]],'.',alpha=0.01)\n",
    "#plt.ylim([0.8,2.2])\n",
    "\n",
    "pcut = np.array(cosmos[\"passive\"][cut])\n",
    "plt.figure(figsize=(8, 6)) # Set the figure size, optional\n",
    "plt.hist2d(VJ, UV, bins=50, cmap='ocean_r',range=[(0,2.3),(0,2.5)]) # Adjust the number of bins and colormap as needed\n",
    "plt.hist2d(VJ[pcut], UV[pcut], bins=50, cmap='hot_r',range=[(0,2.3),(0,2.5)],alpha=0.45) # Adjust the number of bins and colormap as needed\n",
    "#plt.plot(cosmos[\"V\"][~cosmos[\"passive\"]]-cosmos[\"J\"][~cosmos[\"passive\"]], cosmos[\"U\"][~cosmos[\"passive\"]]-cosmos[\"V\"][~cosmos[\"passive\"]],'g.',alpha=0.005)\n",
    "#plt.plot(cosmos[\"V\"][cosmos[\"passive\"]]-cosmos[\"J\"][cosmos[\"passive\"]], cosmos[\"U\"][cosmos[\"passive\"]]-cosmos[\"V\"][cosmos[\"passive\"]],'r.',alpha=0.01)\n",
    "#plt.colorbar() # Show the color bar representing the counts\n",
    "\n",
    "x05,y05 = plotz05()\n",
    "plt.plot(x05,y05,'k:',label='z<0.5')\n",
    "x10,y10 = plotz10()\n",
    "plt.plot(x10,y10,'k--',label='0.5<z<1')\n",
    "x20,y20 = plotz20()\n",
    "plt.plot(x20,y20,'k',label='1<z<2')\n",
    "\n",
    "plt.ylabel('UV') # Set x-axis label\n",
    "plt.xlabel('VJ') # Set y-axis label\n",
    "plt.title('2D Histogram of UV vs VJ') # Set title\n",
    "\n",
    "plt.legend()"
   ]
  },
  {
   "cell_type": "markdown",
   "id": "1cd1ea09",
   "metadata": {},
   "source": [
    "### Filtering passive galaxies\n",
    "\n",
    "After selecting passive objects we restrict the catalogue to only these galaxies for subsequent analysis."
   ]
  },
  {
   "cell_type": "code",
   "execution_count": null,
   "id": "0bc49e1f-d17b-4e3e-a4ca-fd166f91263a",
   "metadata": {
    "id": "0bc49e1f-d17b-4e3e-a4ca-fd166f91263a"
   },
   "outputs": [],
   "source": [
    "cosmos = cosmos[cut]"
   ]
  },
  {
   "cell_type": "markdown",
   "id": "d54aa026",
   "metadata": {},
   "source": [
    "### DES filter definitions\n",
    "\n",
    "Arrays containing the effective wavelengths of DES filters are defined. These are later used in the colour--magnitude relation model."
   ]
  },
  {
   "cell_type": "code",
   "execution_count": null,
   "id": "5962b27e-1a75-4530-9106-25e733ba8e7f",
   "metadata": {
    "id": "5962b27e-1a75-4530-9106-25e733ba8e7f"
   },
   "outputs": [],
   "source": [
    "filters = np.array([473, 642, 784, 926])\n",
    "filters_b = np.array([398, 568, 710, 850])\n",
    "filters_r = np.array([548, 716, 857, 1002])\n",
    "print(filters_b/400-1)\n",
    "print(filters_r/400-1)"
   ]
  },
  {
   "cell_type": "code",
   "execution_count": null,
   "id": "d011f1f8-1341-45b2-8d30-6ca0a7673c2e",
   "metadata": {
    "id": "d011f1f8-1341-45b2-8d30-6ca0a7673c2e"
   },
   "outputs": [],
   "source": [
    "MLAB = [\"MAG_G\",\"MAG_R\",\"MAG_I\",\"MAG_Z\"]\n",
    "MLABERR = [\"MAGERR_G\",\"MAGERR_R\",\"MAGERR_I\",\"MAGERR_Z\"]"
   ]
  },
  {
   "cell_type": "markdown",
   "id": "237850f0",
   "metadata": {},
   "source": [
    "### Loading DES photometry\n",
    "\n",
    "DES data are read from disk and column names are standardised. Magnitude limits are applied to ensure quality photometry."
   ]
  },
  {
   "cell_type": "code",
   "execution_count": null,
   "id": "546c2b03-850d-499e-b1d0-0de1389d6e1c",
   "metadata": {
    "id": "546c2b03-850d-499e-b1d0-0de1389d6e1c"
   },
   "outputs": [],
   "source": [
    "des = Table.read(\"/content/drive/My Drive/ObservationalCosmology/Photo-z/DEScosmosy3deep.fits\")\n",
    "des[\"MAG_G\"] = des[\"BDF_MAG_G\"]\n",
    "des[\"MAG_R\"] = des[\"BDF_MAG_R\"]\n",
    "des[\"MAG_I\"] = des[\"BDF_MAG_I\"]\n",
    "des[\"MAG_Z\"] = des[\"BDF_MAG_Z\"]\n",
    "\n",
    "des[\"MAGERR_G\"] = des[\"BDF_MAG_ERR_DERED_G\"]\n",
    "des[\"MAGERR_R\"] = des[\"BDF_MAG_ERR_DERED_R\"]\n",
    "des[\"MAGERR_I\"] = des[\"BDF_MAG_ERR_DERED_I\"]\n",
    "des[\"MAGERR_Z\"] = des[\"BDF_MAG_ERR_DERED_Z\"]\n",
    "\n",
    "mlim = [26.46,25.73,25.54,24.97]\n",
    "blab = [\"G\",\"R\",\"I\",\"Z\"]\n",
    "\n",
    "for j,i in enumerate(blab):\n",
    "    des = des[des[\"MAG_\"+i]<mlim[j]]\n",
    "\n",
    "for ilab in range(3):\n",
    "    test = (\n",
    "    (des[MLAB[ilab]] > 15) &\n",
    "    (des[MLAB[ilab + 1]] > 15) &\n",
    "    (des[MLABERR[ilab]] > 0) &\n",
    "    (des[MLABERR[ilab + 1]] > 0)\n",
    "    )\n",
    "    des = des[test]"
   ]
  },
  {
   "cell_type": "markdown",
   "id": "dd205958",
   "metadata": {},
   "source": [
    "### Cross-matching COSMOS with DES\n",
    "\n",
    "Using `astropy` we match sources between COSMOS and DES within one arcsecond to obtain consistent colours."
   ]
  },
  {
   "cell_type": "code",
   "execution_count": null,
   "id": "7601829e-9368-4160-99f0-7c4223f51644",
   "metadata": {
    "id": "7601829e-9368-4160-99f0-7c4223f51644"
   },
   "outputs": [],
   "source": [
    "import astropy.units as u\n",
    "from astropy.coordinates import SkyCoord"
   ]
  },
  {
   "cell_type": "code",
   "execution_count": null,
   "id": "e58e36f4-0a67-4f5e-8817-f0e1502fdf77",
   "metadata": {
    "id": "e58e36f4-0a67-4f5e-8817-f0e1502fdf77"
   },
   "outputs": [],
   "source": [
    "c1 = SkyCoord(cosmos[\"RAJ2000\"], cosmos[\"DEJ2000\"])\n",
    "c2 = SkyCoord(des[\"RA\"]*u.deg, des[\"DEC\"]*u.deg)"
   ]
  },
  {
   "cell_type": "code",
   "execution_count": null,
   "id": "cf62e21b-e7be-404d-accf-772f0cab623d",
   "metadata": {
    "id": "cf62e21b-e7be-404d-accf-772f0cab623d"
   },
   "outputs": [],
   "source": [
    "max_sep = 1.0 * u.arcsec\n",
    "idx, d2d, d3d = c1.match_to_catalog_sky(c2)\n",
    "sep_constraint = d2d < max_sep\n",
    "cosmosm = cosmos[sep_constraint]\n",
    "desm = des[idx[sep_constraint]]"
   ]
  },
  {
   "cell_type": "code",
   "execution_count": null,
   "id": "4694ac27-8530-4f14-87a2-41cf8e69184c",
   "metadata": {
    "id": "4694ac27-8530-4f14-87a2-41cf8e69184c"
   },
   "outputs": [],
   "source": [
    "cosmosm[0:4], len(cosmosm)"
   ]
  },
  {
   "cell_type": "code",
   "execution_count": null,
   "id": "2568304d-bda4-4f6b-85f0-f25098dbe09d",
   "metadata": {
    "id": "2568304d-bda4-4f6b-85f0-f25098dbe09d"
   },
   "outputs": [],
   "source": [
    "desm[0:4]"
   ]
  },
  {
   "cell_type": "markdown",
   "id": "8cb21d23",
   "metadata": {},
   "source": [
    "### Colour--magnitude diagnostic plots\n",
    "\n",
    "These cells visualise galaxy colours versus magnitude and use sigma clipping to identify outliers."
   ]
  },
  {
   "cell_type": "code",
   "execution_count": null,
   "id": "600d9101-58a5-40fe-888e-81a81a04fc72",
   "metadata": {
    "id": "600d9101-58a5-40fe-888e-81a81a04fc72"
   },
   "outputs": [],
   "source": [
    "test = (cosmosm[\"EZzphot\"]<0.5) & (cosmosm[\"EZzphot\"]>0.45) & (cosmosm[\"passive\"] )"
   ]
  },
  {
   "cell_type": "code",
   "execution_count": null,
   "id": "fab46dc7-567e-4b19-843c-ce05de5eae32",
   "metadata": {
    "id": "fab46dc7-567e-4b19-843c-ce05de5eae32"
   },
   "outputs": [],
   "source": [
    "plt.plot(desm[\"MAG_I\"][test],desm[\"MAG_R\"][test]-desm[\"MAG_I\"][test],'.',alpha=0.3)\n",
    "sigmacl = sigma_clip(desm[\"MAG_R\"][test]-desm[\"MAG_I\"][test],sigma=3., cenfunc='median',stdfunc='mad_std',maxiters=None, masked=True)\n",
    "sigmaclipped = sigmacl.mask\n",
    "plt.plot(desm[\"MAG_I\"][test][sigmaclipped],desm[\"MAG_R\"][test][sigmaclipped]-desm[\"MAG_I\"][test][sigmaclipped],'.',alpha=0.3)\n",
    "#plt.ylim(-1,3)"
   ]
  },
  {
   "cell_type": "code",
   "execution_count": null,
   "id": "2a32e829-ab43-4f3d-8579-5b0d7aa74bf9",
   "metadata": {
    "id": "2a32e829-ab43-4f3d-8579-5b0d7aa74bf9"
   },
   "outputs": [],
   "source": [
    "plt.plot(des[\"MAG_I\"],des[\"MAG_R\"]-des[\"MAG_I\"],'.',alpha=0.3)\n",
    "plt.ylim(-1,3)\n",
    "plt.xlim(15,25)"
   ]
  },
  {
   "cell_type": "code",
   "execution_count": null,
   "id": "98c25dbc-ca58-432c-a7a0-6fc2356ab636",
   "metadata": {
    "id": "98c25dbc-ca58-432c-a7a0-6fc2356ab636"
   },
   "outputs": [],
   "source": [
    "\n",
    "zrange = np.arange(0.05,1.5,0.075)\n",
    "dz = zrange[1]-zrange[0]\n",
    "\n",
    "for i,j in enumerate(zrange):\n",
    "    test = (cosmosm[\"EZzphot\"]<j+dz) & (cosmosm[\"EZzphot\"]>=j) & (cosmosm[\"passive\"])\n",
    "    plt.plot(desm[\"MAG_I\"][test][::10],desm[\"MAG_R\"][test][::10]-desm[\"MAG_I\"][test][::10],'.',alpha=1,label=str(j))\n",
    "plt.legend()\n",
    "plt.xlim(15,25)\n",
    "plt.ylim(-1,2)"
   ]
  },
  {
   "cell_type": "markdown",
   "id": "b0b73c9f",
   "metadata": {},
   "source": [
    "### Fitting the colour--magnitude relation\n",
    "\n",
    "In discrete redshift bins we fit a linear relation to the colours via likelihood maximisation. The resulting parameters are interpolated as smooth functions of redshift."
   ]
  },
  {
   "cell_type": "code",
   "execution_count": null,
   "id": "b939b500-d5a9-41d8-a63b-c84ce4783a89",
   "metadata": {
    "id": "b939b500-d5a9-41d8-a63b-c84ce4783a89"
   },
   "outputs": [],
   "source": [
    "import numpy as np\n",
    "import matplotlib.pyplot as plt\n",
    "import emcee\n",
    "from scipy.stats import norm\n",
    "from scipy.optimize import minimize\n",
    "\n",
    "# Funzioni già definite\n",
    "def CMRL(theta, x, y, xerr, yerr):\n",
    "    A, B, s,p,m0,ds = theta\n",
    "    ymod = A + B * (x-np.median(x))\n",
    "    ymoderr2 = yerr**2 + s**2 + (xerr * B)**2\n",
    "    return np.sum(np.log(p*norm.pdf(y, loc=ymod, scale=np.sqrt(ymoderr2))+(1-p)*norm.pdf(y, loc=m0, scale=s+ds)))\n",
    "\n",
    "def CMRL_clipped(theta, x, y, xerr, yerr):\n",
    "    A, B, s = theta\n",
    "    ymod = A + B * (x-np.median(x))\n",
    "    ymoderr2 = yerr**2 + s**2 + (xerr * B)**2\n",
    "    return norm.logpdf(y, loc=ymod, scale=np.sqrt(ymoderr2)).sum()\n",
    "\n",
    "def prior(theta):\n",
    "    A, B, s,p,m0,ds = theta\n",
    "    return 0 if (s > 0) & (ds>0) & (p>0) & (p<1) else -np.inf\n",
    "\n",
    "def prior_clipped(theta):\n",
    "    A, B, s = theta\n",
    "    return 0 if (s > 0)  else -np.inf\n",
    "\n",
    "def CMRp(theta, x, y, xerr, yerr):\n",
    "    p = prior(theta)\n",
    "    if p == 0:\n",
    "        return CMRL(theta, x, y, xerr, yerr) + p\n",
    "    else:\n",
    "        return -np.inf\n",
    "\n",
    "def CMRp_clipped(theta, x, y, xerr, yerr):\n",
    "    p = prior_clipped(theta)\n",
    "    if p == 0:\n",
    "        return CMRL_clipped(theta, x, y, xerr, yerr) + p\n",
    "    else:\n",
    "        return -np.inf"
   ]
  },
  {
   "cell_type": "code",
   "execution_count": null,
   "id": "3b14a191-e159-406d-9b49-9f97a41d0ca0",
   "metadata": {
    "id": "3b14a191-e159-406d-9b49-9f97a41d0ca0"
   },
   "outputs": [],
   "source": [
    "results = np.zeros((len(zrange), 4, 3))  # 3 per ilab, 3 per A, B, s\n",
    "\n",
    "# Loop su ilab\n",
    "for ilab in range(3):\n",
    "    for i, j in enumerate(zrange):\n",
    "\n",
    "\n",
    "        test1 = np.where((cosmosm[\"EZzphot\"] < (j + dz)) & (cosmosm[\"EZzphot\"] >= j) & (cosmosm[\"passive\"]))[0]\n",
    "        sigmacl = sigma_clip(desm[MLAB[ilab]][test1]-desm[MLAB[ilab+1]][test1],sigma=3., cenfunc='median',stdfunc='mad_std',maxiters=None, masked=True)\n",
    "        sigmaclipped = sigmacl.mask\n",
    "        test = test1[sigmaclipped]\n",
    "        x = desm[MLAB[ilab + 1]][test]\n",
    "        y = desm[MLAB[ilab]][test] - desm[MLAB[ilab + 1]][test]\n",
    "        xerr = desm[MLABERR[ilab + 1]][test]\n",
    "        yerr = np.sqrt(desm[MLABERR[ilab]][test]**2 + desm[MLABERR[ilab + 1]][test]**2)\n",
    "\n",
    "        if i==0:\n",
    "            p0 = np.random.rand(6)\n",
    "            p0[2] = np.abs(p0[2])  # Assicurati che s sia positivo\n",
    "            p0[5] = np.abs(p0[5])  # Assicurati che ds sia positivo\n",
    "        else:\n",
    "            p0=soln.x\n",
    "        np.random.seed(42)\n",
    "        nll = lambda *args: -CMRp(*args)\n",
    "        initial = p0\n",
    "        soln = minimize(nll, initial, args=(x, y, xerr, yerr),method=\"Powell\")\n",
    "        results[i, 0:3, ilab] = soln.x[0:3]\n",
    "        results[i, 3, ilab] = np.median(x)\n",
    "\n",
    "# Creazione delle funzioni di interpolazione per ogni parametro e ogni ilab\n",
    "interp_funcs = {}\n",
    "for idx, param in enumerate(['A', 'B', 's','med']):\n",
    "    interp_funcs[param] = [interp1d(zrange, results[:, idx, k], kind='quadratic', fill_value=\"extrapolate\") for k in range(3)]\n",
    "\n",
    "def CMR(z):\n",
    "    \"\"\" Restituisce i valori interpolati di A, B, s, e med per ogni ilab dato un z. \"\"\"\n",
    "    return [func(z) for sublist in interp_funcs.values() for func in sublist]\n",
    "\n"
   ]
  },
  {
   "cell_type": "code",
   "execution_count": null,
   "id": "AiCux2lvcmPz",
   "metadata": {
    "id": "AiCux2lvcmPz"
   },
   "outputs": [],
   "source": [
    "results = np.zeros((len(zrange), 4, 3))  # 3 per ilab, 3 per A, B, s\n",
    "\n",
    "# Loop su ilab\n",
    "for ilab in range(3):\n",
    "    for i, j in enumerate(zrange):\n",
    "\n",
    "\n",
    "        test = (cosmosm[\"EZzphot\"] < (j + dz)) & (cosmosm[\"EZzphot\"] >= j) & (cosmosm[\"passive\"])\n",
    "        x = desm[MLAB[ilab + 1]][test]\n",
    "        y = desm[MLAB[ilab]][test] - desm[MLAB[ilab + 1]][test]\n",
    "\n",
    "        xerr = desm[MLABERR[ilab + 1]][test]\n",
    "        yerr = np.sqrt(desm[MLABERR[ilab]][test]**2 + desm[MLABERR[ilab + 1]][test]**2)\n",
    "\n",
    "        if i==0:\n",
    "            p0 = np.random.rand(3)\n",
    "            p0[2] = np.abs(p0[2])  # Assicurati che s sia positivo\n",
    "        else:\n",
    "            p0=soln.x\n",
    "        np.random.seed(42)\n",
    "        nll = lambda *args: -CMRp_clipped(*args)\n",
    "        initial = p0\n",
    "        soln = minimize(nll, initial, args=(x, y, xerr, yerr),method=\"Powell\")\n",
    "        results[i, 0:3, ilab] = soln.x[0:3]\n",
    "        results[i, 3, ilab] = np.median(x)\n",
    "\n",
    "# Creazione delle funzioni di interpolazione per ogni parametro e ogni ilab\n",
    "interp_funcs = {}\n",
    "for idx, param in enumerate(['A', 'B', 's','med']):\n",
    "    interp_funcs[param] = [interp1d(zrange, results[:, idx, k], kind='quadratic', fill_value=\"extrapolate\") for k in range(3)]\n",
    "\n",
    "def CMR(z):\n",
    "    \"\"\" Restituisce i valori interpolati di A, B, s, e med per ogni ilab dato un z. \"\"\"\n",
    "    return [func(z) for sublist in interp_funcs.values() for func in sublist]\n",
    "\n"
   ]
  },
  {
   "cell_type": "code",
   "execution_count": null,
   "id": "t2E9IVEFo59g",
   "metadata": {
    "id": "t2E9IVEFo59g"
   },
   "outputs": [],
   "source": [
    "CMR(0.46)"
   ]
  },
  {
   "cell_type": "code",
   "execution_count": null,
   "id": "fd8b9e4f-19c3-4865-9212-2188fac17c6a",
   "metadata": {
    "id": "fd8b9e4f-19c3-4865-9212-2188fac17c6a"
   },
   "outputs": [],
   "source": [
    "|# Plot dei risultatia\n",
    "iilab = 2\n",
    "zz = np.linspace(0.05,1.5,1000)\n",
    "plt.plot(zrange, results[:, 0,iilab], label='A')\n",
    "plt.plot(zz, CMR(zz)[iilab], label='A-')\n",
    "plt.plot(zrange, results[:, 1,iilab], label='B')\n",
    "plt.plot(zz, CMR(zz)[iilab+3], label='B-')\n",
    "plt.plot(zrange, results[:, 2,iilab], label='s')\n",
    "plt.plot(zz, CMR(zz)[iilab+6], label='s-')\n",
    "plt.legend()\n",
    "plt.show()\n"
   ]
  },
  {
   "cell_type": "code",
   "execution_count": null,
   "id": "4b0d74b4-be2e-4a35-9de4-d9c58e36e0c9",
   "metadata": {
    "id": "4b0d74b4-be2e-4a35-9de4-d9c58e36e0c9"
   },
   "outputs": [],
   "source": [
    "def model(z,ilab):\n",
    "    vec = CMR(z)\n",
    "    x = sptcat[MLAB[ilab+1]]\n",
    "    y = sptcat[MLAB[ilab]] - sptcat[MLAB[ilab+1]]\n",
    "    A = vec[ilab]\n",
    "    B = vec[ilab+3]\n",
    "    s = vec[ilab+6]\n",
    "    med = vec[ilab+9]\n",
    "    ymod = A + B * (x-med)\n",
    "    return x,ymod,s\n",
    "\n",
    "zlim = [0.,0.37,0.79,1.5]\n",
    "def like_p_of_z(theta,sptcat):\n",
    "    z,p,s0,s1,s2 = theta\n",
    "    logl = np.zeros(3)\n",
    "    vec = CMR(z)\n",
    "    for ilab in [0,1,2]:\n",
    "        x = sptcat[MLAB[ilab+1]]\n",
    "        y = sptcat[MLAB[ilab]] - sptcat[MLAB[ilab+1]]\n",
    "        xerr = sptcat[MLABERR[ilab+1]]\n",
    "        yerr = np.sqrt(sptcat[MLABERR[ilab]]**2+sptcat[MLABERR[ilab+1]]**2)\n",
    "        A = vec[ilab]\n",
    "        B = vec[ilab+3]\n",
    "#        if z<zlim[ilab+1]:\n",
    "        s = vec[ilab+6]\n",
    "#        else:\n",
    "#            s = 100.\n",
    "        med = vec[ilab+9]\n",
    "        ymod = A + B * (x-med)\n",
    "        ymoderr2 = yerr**2 + s**2 + (xerr * B)**2\n",
    "        sigma = theta[2+ilab]\n",
    "#        logl[ilab]= np.sum(np.log(p*norm.pdf(y, loc=ymod, scale=np.sqrt(ymoderr2))+(1-p)*(1/sigma)))\n",
    "        logl[ilab]= np.sum(np.log(p*norm.pdf(y, loc=ymod, scale=np.sqrt(ymoderr2))+(1-p)*norm.pdf(y, loc=np.median(y), scale=sigma)))\n",
    "    return np.sum(logl)\n",
    "\n",
    "def prior_p_of_z(theta):\n",
    "    z,p,s0,s1,s2 = theta\n",
    "    if (z>0) & (z<1.2) & (p>0) & (p<1) & (s0>0) & (s1>0) & (s2>0):\n",
    "        return 0\n",
    "    else:\n",
    "        return -np.inf\n",
    "\n",
    "def post_p_of_z(theta,sptcat):\n",
    "    lp = prior_p_of_z(theta)\n",
    "    ll = like_p_of_z(theta,sptcat)\n",
    "    if np.isfinite(lp+ll):\n",
    "        return lp+ll\n",
    "    else:\n",
    "        return -np.inf"
   ]
  },
  {
   "cell_type": "markdown",
   "id": "df1b7df8",
   "metadata": {},
   "source": [
    "### Applying the model to SPT data\n",
    "\n",
    "The interpolated relations are evaluated on SPT cluster galaxies and an MCMC sampler estimates the cluster properties."
   ]
  },
  {
   "cell_type": "code",
   "execution_count": null,
   "id": "5cd67d49-71de-44f7-88ef-c66d7ae050aa",
   "metadata": {
    "id": "5cd67d49-71de-44f7-88ef-c66d7ae050aa"
   },
   "outputs": [],
   "source": [
    "y6lim = [24.5,24,23.4,22.75]\n",
    "from astropy.table import Table\n",
    "sptcat = Table.read(\"/content/drive/My Drive/ObservationalCosmology/Photo-z/sptclust.0.60.fits\")\n",
    "sptcat = sptcat[(sptcat[\"FLAGS_FOOTPRINT\"]==1) & (sptcat[\"FLAGS_GOLD\"] == 0)& (sptcat[\"FLAGSTR\"] == \"ok\") & (sptcat[\"FLAGS_FOREGROUND\"] == 0) &\n",
    "(sptcat[\"FITVD_FLAGS\"] == 0) &  (sptcat[\"MASK_FLAGS\"] == 0) & (np.abs(sptcat[\"SPREADERR_MODEL_G\"]) <0.1) &\n",
    "(sptcat[\"MAGERR_AUTO_G\"] > 0) & (sptcat[\"MAGERR_AUTO_R\"] > 0) & (sptcat[\"MAGERR_AUTO_I\"] > 0) & (sptcat[\"MAGERR_AUTO_Z\"] > 0)\n",
    "& (sptcat[\"MAG_AUTO_G\"] <y6lim[0]) & (sptcat[\"MAG_AUTO_R\"] <y6lim[1]) & (sptcat[\"MAG_AUTO_I\"] <y6lim[2]) & (sptcat[\"MAG_AUTO_Z\"] <y6lim[3])]\n",
    "#& (np.abs(sptcat[\"DEC\"]-np.median(sptcat[\"DEC\"]))<1./60) &\n",
    "#(np.abs((sptcat[\"RA\"]-np.median(sptcat[\"RA\"]))*np.cos(np.deg2rad(np.median(sptcat[\"DEC\"]))))<1./60)]\n",
    "#sptcat\n",
    "\n",
    "sptcat[\"MAG_G\"] = sptcat[\"BDF_MAG_G_CORRECTED\"]\n",
    "sptcat[\"MAG_R\"] = sptcat[\"BDF_MAG_R_CORRECTED\"]\n",
    "sptcat[\"MAG_I\"] = sptcat[\"BDF_MAG_I_CORRECTED\"]\n",
    "sptcat[\"MAG_Z\"] = sptcat[\"BDF_MAG_Z_CORRECTED\"]\n",
    "\n",
    "# sptcat[\"MAG_G\"] = sptcat[\"MAG_AUTO_G\"]\n",
    "# sptcat[\"MAG_R\"] = sptcat[\"MAG_AUTO_R\"]\n",
    "# sptcat[\"MAG_I\"] = sptcat[\"MAG_AUTO_I\"]\n",
    "# sptcat[\"MAG_Z\"] = sptcat[\"MAG_AUTO_Z\"]\n",
    "\n",
    "sptcat[\"MAGERR_G\"] = sptcat[\"BDF_MAG_ERR_G\"]\n",
    "sptcat[\"MAGERR_R\"] = sptcat[\"BDF_MAG_ERR_R\"]\n",
    "sptcat[\"MAGERR_I\"] = sptcat[\"BDF_MAG_ERR_I\"]\n",
    "sptcat[\"MAGERR_Z\"] = sptcat[\"BDF_MAG_ERR_Z\"]\n",
    "#MLAB = [\"MAG_AUTO_G\",\"MAG_AUTO_R\",\"MAG_AUTO_I\",\"MAG_AUTO_Z\"]\n",
    "#MLABERR = [\"MAGERR_AUTO_G\",\"MAGERR_AUTO_R\",\"MAGERR_AUTO_I\",\"MAGERR_AUTO_Z\"]\n",
    "#MLABERR = [\"BDF_MAG_ERR_G\",\"BDF_MAG_ERR_R\",\"BDF_MAG_ERR_I\",\"BDF_MAG_ERR_Z\"]\n",
    "\n",
    "print(post_p_of_z([0.25,0.9,1,1,1],sptcat),post_p_of_z([0.41,0.9,1,1,1],sptcat),post_p_of_z([0.93,0.9,1,1,1],sptcat))"
   ]
  },
  {
   "cell_type": "code",
   "execution_count": null,
   "id": "EZg6Uyy6rG3p",
   "metadata": {
    "id": "EZg6Uyy6rG3p"
   },
   "outputs": [],
   "source": [
    "plt.plot(sptcat['RA'],sptcat['MAG_G'],'.')"
   ]
  },
  {
   "cell_type": "code",
   "execution_count": null,
   "id": "932d8d82-4136-49f4-857a-e65a52e35947",
   "metadata": {
    "id": "932d8d82-4136-49f4-857a-e65a52e35947"
   },
   "outputs": [],
   "source": [
    "nll = lambda *args: -post_p_of_z(*args)\n",
    "#soln = minimize(nll,[0.4,0.9,1,1,1], args=(sptcat),method=\"Powell\")\n",
    "#soln = minimize(nll,soln.x , args=(sptcat),method=\"Nelder-Mead\")\n",
    "#soln = minimize(nll,[0.5,0.1,0.4,0.175,0.15] , args=(sptcat),method=\"Nelder-Mead\")\n",
    "initial = [0.1,0.1,0.4,0.175,0.15]\n",
    "bestf = np.inf\n",
    "bestp = initial\n",
    "soln = minimize(nll,initial , args=(sptcat))\n",
    "for i in np.arange(0.1,1.3,0.1):\n",
    "    initial[0] = i\n",
    "    soln = minimize(nll,initial , args=(sptcat))\n",
    "    if soln.fun < bestf:\n",
    "        bestp = soln.x\n",
    "        bestf = soln.fun\n",
    "soln = minimize(nll,bestp , args=(sptcat))\n",
    "print(soln, post_p_of_z(soln.x,sptcat))"
   ]
  },
  {
   "cell_type": "code",
   "execution_count": null,
   "id": "3c710a24-7882-4882-b86e-21fe9d01afb8",
   "metadata": {
    "id": "3c710a24-7882-4882-b86e-21fe9d01afb8"
   },
   "outputs": [],
   "source": [
    "fig, axes = plt.subplots(1, 3, figsize=(15, 5), sharey=True)\n",
    "for ilab in range(3):\n",
    "    x = sptcat[MLAB[ilab + 1]]\n",
    "    y = sptcat[MLAB[ilab]] - sptcat[MLAB[ilab + 1]]\n",
    "    xmod, ymod, s = model(soln.x[0], ilab)\n",
    "\n",
    "    ax = axes[ilab]\n",
    "    ax.scatter(x, y, alpha=0.5, label=f'ilab={ilab}')\n",
    "    ax.plot(xmod, ymod, color='red', label='Model Fit')\n",
    "    ax.set_title(f'Panel {ilab + 1} (ilab={ilab}) z={round(soln.x[0],2)}')\n",
    "    ax.set_xlabel(MLAB[ilab + 1])\n",
    "    ax.set_ylabel(f'{MLAB[ilab]} - {MLAB[ilab + 1]}')\n",
    "    ax.legend()\n",
    "\n",
    "plt.tight_layout()\n",
    "plt.show()\n",
    "\n",
    "print(soln.x[0])"
   ]
  },
  {
   "cell_type": "code",
   "execution_count": null,
   "id": "349ad296-bfbb-4332-82fc-88e4f332944d",
   "metadata": {
    "id": "349ad296-bfbb-4332-82fc-88e4f332944d"
   },
   "outputs": [],
   "source": [
    "pos = soln.x * (1+1e-1 * np.random.randn(32, 5))\n",
    "#pos = [0.2,0.9,1]\n",
    "nwalkers, ndim = pos.shape\n",
    "\n",
    "sampler = emcee.EnsembleSampler(nwalkers, ndim, post_p_of_z, args=([sptcat]))\n",
    "sampler.run_mcmc(pos, 500, progress=True);\n",
    "fig, axes = plt.subplots(ndim, figsize=(10, 7), sharex=True)\n",
    "samples = sampler.get_chain()\n",
    "for i in range(ndim):\n",
    "    ax = axes[i]\n",
    "    ax.plot(samples[:, :, i], \"k\", alpha=0.3)\n",
    "    ax.set_xlim(0, len(samples))\n",
    "    ax.yaxis.set_label_coords(-0.1, 0.5)\n",
    "\n",
    "axes[-1].set_xlabel(\"step number\");"
   ]
  },
  {
   "cell_type": "code",
   "execution_count": null,
   "id": "f1470ca7-9669-4d6b-85bc-6ff8abd56ad0",
   "metadata": {
    "id": "f1470ca7-9669-4d6b-85bc-6ff8abd56ad0"
   },
   "outputs": [],
   "source": [
    "flat_samples = sampler.get_chain(flat=True,discard=200)\n",
    "plt.hist(flat_samples[:,0],bins=50)"
   ]
  },
  {
   "cell_type": "code",
   "execution_count": null,
   "id": "c1d5f53d-c21a-47ff-8174-ea8b702d304d",
   "metadata": {
    "id": "c1d5f53d-c21a-47ff-8174-ea8b702d304d"
   },
   "outputs": [],
   "source": [
    "zrange = np.arange(0.05,1.5,0.075)\n",
    "dz = zrange[1]-zrange[0]\n",
    "\n",
    "#plt.legend()\n",
    "for i,j in enumerate(zrange):\n",
    "    test = (cosmosm[\"EZzphot\"]<j+dz) & (cosmosm[\"EZzphot\"]>=j) & (cosmosm[\"passive\"])\n",
    "    fig, axes = plt.subplots(1, 3, figsize=(15, 5), sharey=True)\n",
    "    for ilab in range(3):\n",
    "        x = desm[MLAB[ilab + 1]][test]\n",
    "        y = desm[MLAB[ilab]][test] - desm[MLAB[ilab + 1]][test]\n",
    "        xmod, ymod, s = model(np.mean(cosmosm[\"EZzphot\"][test]), ilab)\n",
    "\n",
    "        ax = axes[ilab]\n",
    "        ax.scatter(x, y, alpha=0.5, label=f'ilab={ilab}')\n",
    "        ax.plot(xmod, ymod, color='red', label='Model Fit')\n",
    "        ax.set_title(f'Panel {ilab + 1} (ilab={ilab}) z='+str(np.mean(cosmosm[\"EZzphot\"][test])))\n",
    "        ax.set_xlabel(MLAB[ilab + 1])\n",
    "        ax.set_ylabel(f'{MLAB[ilab]} - {MLAB[ilab + 1]}')\n",
    "        ax.legend()\n",
    "\n",
    "    plt.tight_layout()\n",
    "    plt.show()\n",
    "\n"
   ]
  },
  {
   "cell_type": "code",
   "execution_count": null,
   "id": "97413774-0753-4ac7-9788-6a08e8719485",
   "metadata": {
    "id": "97413774-0753-4ac7-9788-6a08e8719485"
   },
   "outputs": [],
   "source": [
    "filt = [(398,548),(568,716),(710,857),(850,1002)]\n",
    "for i in filt:\n",
    "    print(i[0]/400.-1,i[1]/400.-1)"
   ]
  },
  {
   "cell_type": "code",
   "execution_count": null,
   "id": "ffffb2c1-6c0c-4685-b4af-aa948abd228d",
   "metadata": {
    "id": "ffffb2c1-6c0c-4685-b4af-aa948abd228d"
   },
   "outputs": [],
   "source": [
    "spt = Table.read(\"/content/drive/My Drive/ObservationalCosmology/Photo-z/SPTpol_500d_catalog_tablevOct3.fits\")"
   ]
  },
  {
   "cell_type": "code",
   "execution_count": null,
   "id": "a5e49702-c2a4-45c3-80c4-c5a384167760",
   "metadata": {
    "id": "a5e49702-c2a4-45c3-80c4-c5a384167760"
   },
   "outputs": [],
   "source": [
    "spt[spt[\"XI\"]>10]"
   ]
  },
  {
   "cell_type": "code",
   "execution_count": null,
   "id": "Mr9nb8jXdFJS",
   "metadata": {
    "id": "Mr9nb8jXdFJS"
   },
   "outputs": [],
   "source": []
  },
  {
   "cell_type": "markdown",
   "id": "607ab8f2",
   "metadata": {},
   "source": [
    "### Further analysis\n",
    "\n",
    "The remaining cells load additional SPT catalogues and provide examples of exploratory plots and checks."
   ]
  }
 ],
 "metadata": {
  "colab": {
   "include_colab_link": true,
   "private_outputs": true,
   "provenance": []
  },
  "kernelspec": {
   "display_name": "Python 3",
   "name": "python3"
  },
  "language_info": {
   "codemirror_mode": {
    "name": "ipython",
    "version": 3
   },
   "file_extension": ".py",
   "mimetype": "text/x-python",
   "name": "python",
   "nbconvert_exporter": "python",
   "pygments_lexer": "ipython3",
   "version": "3.9.18"
  }
 },
 "nbformat": 4,
 "nbformat_minor": 5
}
